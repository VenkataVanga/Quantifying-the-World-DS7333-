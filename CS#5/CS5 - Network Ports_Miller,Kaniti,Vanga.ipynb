{
 "cells": [
  {
   "cell_type": "markdown",
   "metadata": {},
   "source": [
    "# Network Traffic Cop (Case Study 5: DS7331)"
   ]
  },
  {
   "cell_type": "markdown",
   "metadata": {},
   "source": [
    "SMU Student collaboration:\n",
    "\n",
    " - Allen Miller\n",
    " - Vijay Kaniti\n",
    " - Venkata 'MG' Vanga"
   ]
  },
  {
   "cell_type": "code",
   "execution_count": 1,
   "metadata": {},
   "outputs": [],
   "source": [
    "#pip install vowpalwabbit"
   ]
  },
  {
   "cell_type": "code",
   "execution_count": 2,
   "metadata": {},
   "outputs": [],
   "source": [
    "import pandas as pd\n",
    "import numpy as np\n",
    "\n",
    "from vowpalwabbit.sklearn_vw import VWClassifier\n",
    "from vowpalwabbit import pyvw\n",
    "from sklearn.metrics import accuracy_score\n",
    "from sklearn.model_selection import train_test_split"
   ]
  },
  {
   "cell_type": "code",
   "execution_count": 3,
   "metadata": {},
   "outputs": [
    {
     "data": {
      "text/plain": [
       "'Z:\\\\MG_MASters_SMU\\\\ds7333\\\\CS#5'"
      ]
     },
     "execution_count": 3,
     "metadata": {},
     "output_type": "execute_result"
    }
   ],
   "source": [
    "pwd"
   ]
  },
  {
   "cell_type": "code",
   "execution_count": 34,
   "metadata": {},
   "outputs": [],
   "source": [
    "data = pd.read_csv('log2.csv')"
   ]
  },
  {
   "cell_type": "code",
   "execution_count": 35,
   "metadata": {},
   "outputs": [
    {
     "data": {
      "text/html": [
       "<div>\n",
       "<style scoped>\n",
       "    .dataframe tbody tr th:only-of-type {\n",
       "        vertical-align: middle;\n",
       "    }\n",
       "\n",
       "    .dataframe tbody tr th {\n",
       "        vertical-align: top;\n",
       "    }\n",
       "\n",
       "    .dataframe thead th {\n",
       "        text-align: right;\n",
       "    }\n",
       "</style>\n",
       "<table border=\"1\" class=\"dataframe\">\n",
       "  <thead>\n",
       "    <tr style=\"text-align: right;\">\n",
       "      <th></th>\n",
       "      <th>Source Port</th>\n",
       "      <th>Destination Port</th>\n",
       "      <th>NAT Source Port</th>\n",
       "      <th>NAT Destination Port</th>\n",
       "      <th>Action</th>\n",
       "      <th>Bytes</th>\n",
       "      <th>Bytes Sent</th>\n",
       "      <th>Bytes Received</th>\n",
       "      <th>Packets</th>\n",
       "      <th>Elapsed Time (sec)</th>\n",
       "      <th>pkts_sent</th>\n",
       "      <th>pkts_received</th>\n",
       "    </tr>\n",
       "  </thead>\n",
       "  <tbody>\n",
       "    <tr>\n",
       "      <th>0</th>\n",
       "      <td>57222</td>\n",
       "      <td>53</td>\n",
       "      <td>54587</td>\n",
       "      <td>53</td>\n",
       "      <td>allow</td>\n",
       "      <td>177</td>\n",
       "      <td>94</td>\n",
       "      <td>83</td>\n",
       "      <td>2</td>\n",
       "      <td>30</td>\n",
       "      <td>1</td>\n",
       "      <td>1</td>\n",
       "    </tr>\n",
       "    <tr>\n",
       "      <th>1</th>\n",
       "      <td>56258</td>\n",
       "      <td>3389</td>\n",
       "      <td>56258</td>\n",
       "      <td>3389</td>\n",
       "      <td>allow</td>\n",
       "      <td>4768</td>\n",
       "      <td>1600</td>\n",
       "      <td>3168</td>\n",
       "      <td>19</td>\n",
       "      <td>17</td>\n",
       "      <td>10</td>\n",
       "      <td>9</td>\n",
       "    </tr>\n",
       "    <tr>\n",
       "      <th>2</th>\n",
       "      <td>6881</td>\n",
       "      <td>50321</td>\n",
       "      <td>43265</td>\n",
       "      <td>50321</td>\n",
       "      <td>allow</td>\n",
       "      <td>238</td>\n",
       "      <td>118</td>\n",
       "      <td>120</td>\n",
       "      <td>2</td>\n",
       "      <td>1199</td>\n",
       "      <td>1</td>\n",
       "      <td>1</td>\n",
       "    </tr>\n",
       "    <tr>\n",
       "      <th>3</th>\n",
       "      <td>50553</td>\n",
       "      <td>3389</td>\n",
       "      <td>50553</td>\n",
       "      <td>3389</td>\n",
       "      <td>allow</td>\n",
       "      <td>3327</td>\n",
       "      <td>1438</td>\n",
       "      <td>1889</td>\n",
       "      <td>15</td>\n",
       "      <td>17</td>\n",
       "      <td>8</td>\n",
       "      <td>7</td>\n",
       "    </tr>\n",
       "    <tr>\n",
       "      <th>4</th>\n",
       "      <td>50002</td>\n",
       "      <td>443</td>\n",
       "      <td>45848</td>\n",
       "      <td>443</td>\n",
       "      <td>allow</td>\n",
       "      <td>25358</td>\n",
       "      <td>6778</td>\n",
       "      <td>18580</td>\n",
       "      <td>31</td>\n",
       "      <td>16</td>\n",
       "      <td>13</td>\n",
       "      <td>18</td>\n",
       "    </tr>\n",
       "    <tr>\n",
       "      <th>...</th>\n",
       "      <td>...</td>\n",
       "      <td>...</td>\n",
       "      <td>...</td>\n",
       "      <td>...</td>\n",
       "      <td>...</td>\n",
       "      <td>...</td>\n",
       "      <td>...</td>\n",
       "      <td>...</td>\n",
       "      <td>...</td>\n",
       "      <td>...</td>\n",
       "      <td>...</td>\n",
       "      <td>...</td>\n",
       "    </tr>\n",
       "    <tr>\n",
       "      <th>65527</th>\n",
       "      <td>63691</td>\n",
       "      <td>80</td>\n",
       "      <td>13237</td>\n",
       "      <td>80</td>\n",
       "      <td>allow</td>\n",
       "      <td>314</td>\n",
       "      <td>192</td>\n",
       "      <td>122</td>\n",
       "      <td>6</td>\n",
       "      <td>15</td>\n",
       "      <td>4</td>\n",
       "      <td>2</td>\n",
       "    </tr>\n",
       "    <tr>\n",
       "      <th>65528</th>\n",
       "      <td>50964</td>\n",
       "      <td>80</td>\n",
       "      <td>13485</td>\n",
       "      <td>80</td>\n",
       "      <td>allow</td>\n",
       "      <td>4680740</td>\n",
       "      <td>67312</td>\n",
       "      <td>4613428</td>\n",
       "      <td>4675</td>\n",
       "      <td>77</td>\n",
       "      <td>985</td>\n",
       "      <td>3690</td>\n",
       "    </tr>\n",
       "    <tr>\n",
       "      <th>65529</th>\n",
       "      <td>54871</td>\n",
       "      <td>445</td>\n",
       "      <td>0</td>\n",
       "      <td>0</td>\n",
       "      <td>drop</td>\n",
       "      <td>70</td>\n",
       "      <td>70</td>\n",
       "      <td>0</td>\n",
       "      <td>1</td>\n",
       "      <td>0</td>\n",
       "      <td>1</td>\n",
       "      <td>0</td>\n",
       "    </tr>\n",
       "    <tr>\n",
       "      <th>65530</th>\n",
       "      <td>54870</td>\n",
       "      <td>445</td>\n",
       "      <td>0</td>\n",
       "      <td>0</td>\n",
       "      <td>drop</td>\n",
       "      <td>70</td>\n",
       "      <td>70</td>\n",
       "      <td>0</td>\n",
       "      <td>1</td>\n",
       "      <td>0</td>\n",
       "      <td>1</td>\n",
       "      <td>0</td>\n",
       "    </tr>\n",
       "    <tr>\n",
       "      <th>65531</th>\n",
       "      <td>54867</td>\n",
       "      <td>445</td>\n",
       "      <td>0</td>\n",
       "      <td>0</td>\n",
       "      <td>drop</td>\n",
       "      <td>70</td>\n",
       "      <td>70</td>\n",
       "      <td>0</td>\n",
       "      <td>1</td>\n",
       "      <td>0</td>\n",
       "      <td>1</td>\n",
       "      <td>0</td>\n",
       "    </tr>\n",
       "  </tbody>\n",
       "</table>\n",
       "<p>65532 rows × 12 columns</p>\n",
       "</div>"
      ],
      "text/plain": [
       "       Source Port  Destination Port  NAT Source Port  NAT Destination Port  \\\n",
       "0            57222                53            54587                    53   \n",
       "1            56258              3389            56258                  3389   \n",
       "2             6881             50321            43265                 50321   \n",
       "3            50553              3389            50553                  3389   \n",
       "4            50002               443            45848                   443   \n",
       "...            ...               ...              ...                   ...   \n",
       "65527        63691                80            13237                    80   \n",
       "65528        50964                80            13485                    80   \n",
       "65529        54871               445                0                     0   \n",
       "65530        54870               445                0                     0   \n",
       "65531        54867               445                0                     0   \n",
       "\n",
       "      Action    Bytes  Bytes Sent  Bytes Received  Packets  \\\n",
       "0      allow      177          94              83        2   \n",
       "1      allow     4768        1600            3168       19   \n",
       "2      allow      238         118             120        2   \n",
       "3      allow     3327        1438            1889       15   \n",
       "4      allow    25358        6778           18580       31   \n",
       "...      ...      ...         ...             ...      ...   \n",
       "65527  allow      314         192             122        6   \n",
       "65528  allow  4680740       67312         4613428     4675   \n",
       "65529   drop       70          70               0        1   \n",
       "65530   drop       70          70               0        1   \n",
       "65531   drop       70          70               0        1   \n",
       "\n",
       "       Elapsed Time (sec)  pkts_sent  pkts_received  \n",
       "0                      30          1              1  \n",
       "1                      17         10              9  \n",
       "2                    1199          1              1  \n",
       "3                      17          8              7  \n",
       "4                      16         13             18  \n",
       "...                   ...        ...            ...  \n",
       "65527                  15          4              2  \n",
       "65528                  77        985           3690  \n",
       "65529                   0          1              0  \n",
       "65530                   0          1              0  \n",
       "65531                   0          1              0  \n",
       "\n",
       "[65532 rows x 12 columns]"
      ]
     },
     "execution_count": 35,
     "metadata": {},
     "output_type": "execute_result"
    }
   ],
   "source": [
    "data"
   ]
  },
  {
   "cell_type": "code",
   "execution_count": 36,
   "metadata": {},
   "outputs": [
    {
     "name": "stdout",
     "output_type": "stream",
     "text": [
      "(0, Source Port             57222\n",
      "Destination Port           53\n",
      "NAT Source Port         54587\n",
      "NAT Destination Port       53\n",
      "Action                  allow\n",
      "Bytes                     177\n",
      "Bytes Sent                 94\n",
      "Bytes Received             83\n",
      "Packets                     2\n",
      "Elapsed Time (sec)         30\n",
      "pkts_sent                   1\n",
      "pkts_received               1\n",
      "Name: 0, dtype: object)\n"
     ]
    }
   ],
   "source": [
    "for i in data.iterrows():\n",
    "    print(i)\n",
    "    break"
   ]
  },
  {
   "cell_type": "code",
   "execution_count": 37,
   "metadata": {},
   "outputs": [
    {
     "data": {
      "text/plain": [
       "Source Port              int64\n",
       "Destination Port         int64\n",
       "NAT Source Port          int64\n",
       "NAT Destination Port     int64\n",
       "Action                  object\n",
       "Bytes                    int64\n",
       "Bytes Sent               int64\n",
       "Bytes Received           int64\n",
       "Packets                  int64\n",
       "Elapsed Time (sec)       int64\n",
       "pkts_sent                int64\n",
       "pkts_received            int64\n",
       "dtype: object"
      ]
     },
     "execution_count": 37,
     "metadata": {},
     "output_type": "execute_result"
    }
   ],
   "source": [
    "data.dtypes"
   ]
  },
  {
   "cell_type": "code",
   "execution_count": 38,
   "metadata": {},
   "outputs": [
    {
     "data": {
      "text/plain": [
       "Source Port                int64\n",
       "Destination Port           int64\n",
       "NAT Source Port            int64\n",
       "NAT Destination Port       int64\n",
       "Action                  category\n",
       "Bytes                      int64\n",
       "Bytes Sent                 int64\n",
       "Bytes Received             int64\n",
       "Packets                    int64\n",
       "Elapsed Time (sec)         int64\n",
       "pkts_sent                  int64\n",
       "pkts_received              int64\n",
       "dtype: object"
      ]
     },
     "execution_count": 38,
     "metadata": {},
     "output_type": "execute_result"
    }
   ],
   "source": [
    "data['Action'] = data['Action'].astype('category')\n",
    "data.dtypes"
   ]
  },
  {
   "cell_type": "code",
   "execution_count": 39,
   "metadata": {},
   "outputs": [
    {
     "data": {
      "text/plain": [
       "0        0\n",
       "1        0\n",
       "2        0\n",
       "3        0\n",
       "4        0\n",
       "        ..\n",
       "65527    0\n",
       "65528    0\n",
       "65529    2\n",
       "65530    2\n",
       "65531    2\n",
       "Name: Action, Length: 65532, dtype: int8"
      ]
     },
     "execution_count": 39,
     "metadata": {},
     "output_type": "execute_result"
    }
   ],
   "source": [
    "data['Action'] = data['Action'].cat.codes\n",
    "data['Action']"
   ]
  },
  {
   "cell_type": "code",
   "execution_count": 40,
   "metadata": {},
   "outputs": [
    {
     "data": {
      "text/plain": [
       "array([0, 2, 1, 3], dtype=int8)"
      ]
     },
     "execution_count": 40,
     "metadata": {},
     "output_type": "execute_result"
    }
   ],
   "source": [
    "data.Action.unique()"
   ]
  },
  {
   "cell_type": "code",
   "execution_count": 41,
   "metadata": {},
   "outputs": [
    {
     "data": {
      "text/plain": [
       "array([1, 3, 2, 4], dtype=int8)"
      ]
     },
     "execution_count": 41,
     "metadata": {},
     "output_type": "execute_result"
    }
   ],
   "source": [
    "data['Action'] = data['Action']+1\n",
    "\n",
    "data.Action.unique()    "
   ]
  },
  {
   "cell_type": "markdown",
   "metadata": {},
   "source": [
    "## Vowpal Wabbit"
   ]
  },
  {
   "cell_type": "code",
   "execution_count": 42,
   "metadata": {},
   "outputs": [],
   "source": [
    "\n",
    "with open('test.vw', 'w') as f:\n",
    "          for i in data.iterrows():\n",
    "              label = i[1]['Action']\n",
    "              index = i[0]\n",
    "              features = ''\n",
    "              for col in i[1].index:\n",
    "                  if 'Port' in col:\n",
    "                      features = features + col.replace(' ', '_')+'_'+str(i[1][col])+' '\n",
    "                  elif 'label' not in col:\n",
    "                      features = features + col.replace(' ', '_')+':'+str(i[1][col])+' '\n",
    "              line = f'{label} {index}| {features}\\n'\n",
    "              f.write(line)\n",
    "              \n",
    "              "
   ]
  },
  {
   "cell_type": "code",
   "execution_count": 43,
   "metadata": {},
   "outputs": [],
   "source": [
    "vw_data = []\n",
    "for i in data.iterrows():\n",
    "    label = i[1]['Action']\n",
    "    index = i[0]\n",
    "    features = ''\n",
    "    for col in i[1].index:\n",
    "        if 'Port' in col:\n",
    "            features = features + col.replace(' ', '_')+'_'+str(i[1][col])+' '\n",
    "        elif 'label' not in col:\n",
    "            features = features + col.replace(' ', '_')+':'+str(i[1][col])+' '\n",
    "    line = f'{label} {index}| {features}\\n'\n",
    "    vw_data.append(line)"
   ]
  },
  {
   "cell_type": "code",
   "execution_count": 44,
   "metadata": {},
   "outputs": [
    {
     "data": {
      "text/plain": [
       "'1 0| Source_Port_57222 Destination_Port_53 NAT_Source_Port_54587 NAT_Destination_Port_53 Action:1 Bytes:177 Bytes_Sent:94 Bytes_Received:83 Packets:2 Elapsed_Time_(sec):30 pkts_sent:1 pkts_received:1 \\n'"
      ]
     },
     "execution_count": 44,
     "metadata": {},
     "output_type": "execute_result"
    }
   ],
   "source": [
    "vw_data[0]"
   ]
  },
  {
   "cell_type": "code",
   "execution_count": 45,
   "metadata": {},
   "outputs": [
    {
     "data": {
      "text/html": [
       "<div>\n",
       "<style scoped>\n",
       "    .dataframe tbody tr th:only-of-type {\n",
       "        vertical-align: middle;\n",
       "    }\n",
       "\n",
       "    .dataframe tbody tr th {\n",
       "        vertical-align: top;\n",
       "    }\n",
       "\n",
       "    .dataframe thead th {\n",
       "        text-align: right;\n",
       "    }\n",
       "</style>\n",
       "<table border=\"1\" class=\"dataframe\">\n",
       "  <thead>\n",
       "    <tr style=\"text-align: right;\">\n",
       "      <th></th>\n",
       "      <th>0</th>\n",
       "      <th>1</th>\n",
       "    </tr>\n",
       "  </thead>\n",
       "  <tbody>\n",
       "    <tr>\n",
       "      <th>0</th>\n",
       "      <td>1</td>\n",
       "      <td>0</td>\n",
       "    </tr>\n",
       "    <tr>\n",
       "      <th>1</th>\n",
       "      <td>1</td>\n",
       "      <td>1</td>\n",
       "    </tr>\n",
       "    <tr>\n",
       "      <th>2</th>\n",
       "      <td>1</td>\n",
       "      <td>2</td>\n",
       "    </tr>\n",
       "    <tr>\n",
       "      <th>3</th>\n",
       "      <td>1</td>\n",
       "      <td>3</td>\n",
       "    </tr>\n",
       "    <tr>\n",
       "      <th>4</th>\n",
       "      <td>1</td>\n",
       "      <td>4</td>\n",
       "    </tr>\n",
       "  </tbody>\n",
       "</table>\n",
       "</div>"
      ],
      "text/plain": [
       "   0  1\n",
       "0  1  0\n",
       "1  1  1\n",
       "2  1  2\n",
       "3  1  3\n",
       "4  1  4"
      ]
     },
     "execution_count": 45,
     "metadata": {},
     "output_type": "execute_result"
    }
   ],
   "source": [
    "preds = pd.read_csv('port.preds', header = None, sep = ' ')\n",
    "preds.head()"
   ]
  },
  {
   "cell_type": "code",
   "execution_count": 46,
   "metadata": {},
   "outputs": [
    {
     "data": {
      "text/plain": [
       "0.9993896111823232"
      ]
     },
     "execution_count": 46,
     "metadata": {},
     "output_type": "execute_result"
    }
   ],
   "source": [
    "accuracy_score(data['Action'],preds.loc[:,0])"
   ]
  },
  {
   "cell_type": "markdown",
   "metadata": {},
   "source": [
    "## SVM"
   ]
  },
  {
   "cell_type": "code",
   "execution_count": 111,
   "metadata": {},
   "outputs": [],
   "source": [
    "from sklearn.svm import LinearSVC\n",
    "model = LinearSVC(C=1.0, loss = 'squared_hinge', dual = False, random_state = 42)"
   ]
  },
  {
   "cell_type": "code",
   "execution_count": 93,
   "metadata": {
    "scrolled": true
   },
   "outputs": [],
   "source": [
    "y = data['Action']"
   ]
  },
  {
   "cell_type": "code",
   "execution_count": 94,
   "metadata": {},
   "outputs": [
    {
     "data": {
      "text/plain": [
       "(65532,)"
      ]
     },
     "execution_count": 94,
     "metadata": {},
     "output_type": "execute_result"
    }
   ],
   "source": [
    "y.shape"
   ]
  },
  {
   "cell_type": "code",
   "execution_count": 95,
   "metadata": {},
   "outputs": [],
   "source": [
    "X = data.copy()\n",
    "X = X.drop(['Action'], axis = 1)"
   ]
  },
  {
   "cell_type": "code",
   "execution_count": 96,
   "metadata": {},
   "outputs": [
    {
     "data": {
      "text/plain": [
       "(65532, 11)"
      ]
     },
     "execution_count": 96,
     "metadata": {},
     "output_type": "execute_result"
    }
   ],
   "source": [
    "X.shape"
   ]
  },
  {
   "cell_type": "code",
   "execution_count": 97,
   "metadata": {},
   "outputs": [],
   "source": [
    "X_train, X_test, y_train, y_test = train_test_split(X, y, random_state = 42, test_size = .33, shuffle = True)"
   ]
  },
  {
   "cell_type": "code",
   "execution_count": 112,
   "metadata": {},
   "outputs": [
    {
     "data": {
      "text/plain": [
       "LinearSVC(dual=False, random_state=42)"
      ]
     },
     "execution_count": 112,
     "metadata": {},
     "output_type": "execute_result"
    }
   ],
   "source": [
    "model.fit(X_train, y_train)"
   ]
  },
  {
   "cell_type": "code",
   "execution_count": 113,
   "metadata": {},
   "outputs": [],
   "source": [
    "svm_preds = model.predict(X_test)"
   ]
  },
  {
   "cell_type": "code",
   "execution_count": 114,
   "metadata": {},
   "outputs": [
    {
     "data": {
      "text/plain": [
       "0.9766947193193378"
      ]
     },
     "execution_count": 114,
     "metadata": {},
     "output_type": "execute_result"
    }
   ],
   "source": [
    "accuracy_score(svm_preds, y_test)"
   ]
  },
  {
   "cell_type": "markdown",
   "metadata": {},
   "source": [
    "## SGD"
   ]
  },
  {
   "cell_type": "code",
   "execution_count": 26,
   "metadata": {},
   "outputs": [],
   "source": [
    "#Create Cross Validation Procedure for Classification task\n",
    "from sklearn.model_selection import StratifiedKFold\n",
    "cv = StratifiedKFold(n_splits=10, random_state=1234, shuffle=True)\n"
   ]
  },
  {
   "cell_type": "code",
   "execution_count": 27,
   "metadata": {},
   "outputs": [],
   "source": [
    "from sklearn.preprocessing import StandardScaler\n",
    "df_1 = data.copy()\n",
    "# separate independent and dependent features\n",
    "if 'Action' in data:\n",
    "    y = data['Action'].values # get the target variable\n",
    "    del data['Action'] # get rid of the class label\n",
    "    X = data.values # use everything else to predict\n",
    "    \n",
    "# Normalize the data\n",
    "scl = StandardScaler()\n",
    "scaled_X = scl.fit_transform(X)"
   ]
  },
  {
   "cell_type": "code",
   "execution_count": 28,
   "metadata": {},
   "outputs": [],
   "source": [
    "#SVM_SGD \n",
    "from sklearn.linear_model import SGDClassifier\n",
    "from sklearn.model_selection import GridSearchCV\n",
    "\n",
    "\n",
    "SVM = SGDClassifier()\n",
    "# define parameters\n",
    "loss_SVM = ['modified_huber', 'hinge']\n",
    "penalty_SVM = ['l2']\n",
    "alpha_SVM = [0.01, 0.1, 1, 5, 10]\n",
    "class_weight_SVM = ['balanced', None]\n",
    "max_iter_SVM = [500, 1000, 1500]\n",
    "random_state_SVM = [1234]\n",
    "\n",
    "# define grid search\n",
    "param_grid_SVM = dict(loss=loss_SVM, penalty=penalty_SVM, alpha=alpha_SVM,\n",
    "                     class_weight=class_weight_SVM, max_iter=max_iter_SVM, random_state=random_state_SVM)\n",
    "\n",
    "grid_search_SVM = GridSearchCV(estimator=SVM, param_grid=param_grid_SVM, n_jobs=-1, cv=cv, \n",
    "                               scoring='accuracy',error_score=0, verbose=1)"
   ]
  },
  {
   "cell_type": "code",
   "execution_count": 29,
   "metadata": {
    "scrolled": false
   },
   "outputs": [
    {
     "name": "stderr",
     "output_type": "stream",
     "text": [
      "[Parallel(n_jobs=-1)]: Using backend LokyBackend with 8 concurrent workers.\n"
     ]
    },
    {
     "name": "stdout",
     "output_type": "stream",
     "text": [
      "Fitting 10 folds for each of 60 candidates, totalling 600 fits\n"
     ]
    },
    {
     "name": "stderr",
     "output_type": "stream",
     "text": [
      "[Parallel(n_jobs=-1)]: Done  34 tasks      | elapsed:    6.6s\n",
      "[Parallel(n_jobs=-1)]: Done 184 tasks      | elapsed:   15.7s\n",
      "[Parallel(n_jobs=-1)]: Done 434 tasks      | elapsed:   30.7s\n",
      "[Parallel(n_jobs=-1)]: Done 600 out of 600 | elapsed:   43.0s finished\n"
     ]
    },
    {
     "name": "stdout",
     "output_type": "stream",
     "text": [
      "Best: 0.947598 using {'alpha': 0.01, 'class_weight': None, 'loss': 'modified_huber', 'max_iter': 500, 'penalty': 'l2', 'random_state': 1234}\n",
      "0.929668 (0.004740) with: {'alpha': 0.01, 'class_weight': 'balanced', 'loss': 'modified_huber', 'max_iter': 500, 'penalty': 'l2', 'random_state': 1234}\n",
      "0.929668 (0.004740) with: {'alpha': 0.01, 'class_weight': 'balanced', 'loss': 'modified_huber', 'max_iter': 1000, 'penalty': 'l2', 'random_state': 1234}\n",
      "0.929668 (0.004740) with: {'alpha': 0.01, 'class_weight': 'balanced', 'loss': 'modified_huber', 'max_iter': 1500, 'penalty': 'l2', 'random_state': 1234}\n",
      "0.903223 (0.005859) with: {'alpha': 0.01, 'class_weight': 'balanced', 'loss': 'hinge', 'max_iter': 500, 'penalty': 'l2', 'random_state': 1234}\n",
      "0.903223 (0.005859) with: {'alpha': 0.01, 'class_weight': 'balanced', 'loss': 'hinge', 'max_iter': 1000, 'penalty': 'l2', 'random_state': 1234}\n",
      "0.903223 (0.005859) with: {'alpha': 0.01, 'class_weight': 'balanced', 'loss': 'hinge', 'max_iter': 1500, 'penalty': 'l2', 'random_state': 1234}\n",
      "0.947598 (0.003934) with: {'alpha': 0.01, 'class_weight': None, 'loss': 'modified_huber', 'max_iter': 500, 'penalty': 'l2', 'random_state': 1234}\n",
      "0.947598 (0.003934) with: {'alpha': 0.01, 'class_weight': None, 'loss': 'modified_huber', 'max_iter': 1000, 'penalty': 'l2', 'random_state': 1234}\n",
      "0.947598 (0.003934) with: {'alpha': 0.01, 'class_weight': None, 'loss': 'modified_huber', 'max_iter': 1500, 'penalty': 'l2', 'random_state': 1234}\n",
      "0.931286 (0.002981) with: {'alpha': 0.01, 'class_weight': None, 'loss': 'hinge', 'max_iter': 500, 'penalty': 'l2', 'random_state': 1234}\n",
      "0.931286 (0.002981) with: {'alpha': 0.01, 'class_weight': None, 'loss': 'hinge', 'max_iter': 1000, 'penalty': 'l2', 'random_state': 1234}\n",
      "0.931286 (0.002981) with: {'alpha': 0.01, 'class_weight': None, 'loss': 'hinge', 'max_iter': 1500, 'penalty': 'l2', 'random_state': 1234}\n",
      "0.893121 (0.004361) with: {'alpha': 0.1, 'class_weight': 'balanced', 'loss': 'modified_huber', 'max_iter': 500, 'penalty': 'l2', 'random_state': 1234}\n",
      "0.893121 (0.004361) with: {'alpha': 0.1, 'class_weight': 'balanced', 'loss': 'modified_huber', 'max_iter': 1000, 'penalty': 'l2', 'random_state': 1234}\n",
      "0.893121 (0.004361) with: {'alpha': 0.1, 'class_weight': 'balanced', 'loss': 'modified_huber', 'max_iter': 1500, 'penalty': 'l2', 'random_state': 1234}\n",
      "0.862861 (0.002364) with: {'alpha': 0.1, 'class_weight': 'balanced', 'loss': 'hinge', 'max_iter': 500, 'penalty': 'l2', 'random_state': 1234}\n",
      "0.862861 (0.002364) with: {'alpha': 0.1, 'class_weight': 'balanced', 'loss': 'hinge', 'max_iter': 1000, 'penalty': 'l2', 'random_state': 1234}\n",
      "0.862861 (0.002364) with: {'alpha': 0.1, 'class_weight': 'balanced', 'loss': 'hinge', 'max_iter': 1500, 'penalty': 'l2', 'random_state': 1234}\n",
      "0.930431 (0.003422) with: {'alpha': 0.1, 'class_weight': None, 'loss': 'modified_huber', 'max_iter': 500, 'penalty': 'l2', 'random_state': 1234}\n",
      "0.930431 (0.003422) with: {'alpha': 0.1, 'class_weight': None, 'loss': 'modified_huber', 'max_iter': 1000, 'penalty': 'l2', 'random_state': 1234}\n",
      "0.930431 (0.003422) with: {'alpha': 0.1, 'class_weight': None, 'loss': 'modified_huber', 'max_iter': 1500, 'penalty': 'l2', 'random_state': 1234}\n",
      "0.931850 (0.003700) with: {'alpha': 0.1, 'class_weight': None, 'loss': 'hinge', 'max_iter': 500, 'penalty': 'l2', 'random_state': 1234}\n",
      "0.931850 (0.003700) with: {'alpha': 0.1, 'class_weight': None, 'loss': 'hinge', 'max_iter': 1000, 'penalty': 'l2', 'random_state': 1234}\n",
      "0.931850 (0.003700) with: {'alpha': 0.1, 'class_weight': None, 'loss': 'hinge', 'max_iter': 1500, 'penalty': 'l2', 'random_state': 1234}\n",
      "0.892556 (0.004335) with: {'alpha': 1, 'class_weight': 'balanced', 'loss': 'modified_huber', 'max_iter': 500, 'penalty': 'l2', 'random_state': 1234}\n",
      "0.892556 (0.004335) with: {'alpha': 1, 'class_weight': 'balanced', 'loss': 'modified_huber', 'max_iter': 1000, 'penalty': 'l2', 'random_state': 1234}\n",
      "0.892556 (0.004335) with: {'alpha': 1, 'class_weight': 'balanced', 'loss': 'modified_huber', 'max_iter': 1500, 'penalty': 'l2', 'random_state': 1234}\n",
      "0.937054 (0.003881) with: {'alpha': 1, 'class_weight': 'balanced', 'loss': 'hinge', 'max_iter': 500, 'penalty': 'l2', 'random_state': 1234}\n",
      "0.937054 (0.003881) with: {'alpha': 1, 'class_weight': 'balanced', 'loss': 'hinge', 'max_iter': 1000, 'penalty': 'l2', 'random_state': 1234}\n",
      "0.937054 (0.003881) with: {'alpha': 1, 'class_weight': 'balanced', 'loss': 'hinge', 'max_iter': 1500, 'penalty': 'l2', 'random_state': 1234}\n",
      "0.847433 (0.004491) with: {'alpha': 1, 'class_weight': None, 'loss': 'modified_huber', 'max_iter': 500, 'penalty': 'l2', 'random_state': 1234}\n",
      "0.847433 (0.004491) with: {'alpha': 1, 'class_weight': None, 'loss': 'modified_huber', 'max_iter': 1000, 'penalty': 'l2', 'random_state': 1234}\n",
      "0.847433 (0.004491) with: {'alpha': 1, 'class_weight': None, 'loss': 'modified_huber', 'max_iter': 1500, 'penalty': 'l2', 'random_state': 1234}\n",
      "0.725172 (0.002099) with: {'alpha': 1, 'class_weight': None, 'loss': 'hinge', 'max_iter': 500, 'penalty': 'l2', 'random_state': 1234}\n",
      "0.725172 (0.002099) with: {'alpha': 1, 'class_weight': None, 'loss': 'hinge', 'max_iter': 1000, 'penalty': 'l2', 'random_state': 1234}\n",
      "0.725172 (0.002099) with: {'alpha': 1, 'class_weight': None, 'loss': 'hinge', 'max_iter': 1500, 'penalty': 'l2', 'random_state': 1234}\n",
      "0.763458 (0.027960) with: {'alpha': 5, 'class_weight': 'balanced', 'loss': 'modified_huber', 'max_iter': 500, 'penalty': 'l2', 'random_state': 1234}\n",
      "0.763458 (0.027960) with: {'alpha': 5, 'class_weight': 'balanced', 'loss': 'modified_huber', 'max_iter': 1000, 'penalty': 'l2', 'random_state': 1234}\n",
      "0.763458 (0.027960) with: {'alpha': 5, 'class_weight': 'balanced', 'loss': 'modified_huber', 'max_iter': 1500, 'penalty': 'l2', 'random_state': 1234}\n",
      "0.613619 (0.106061) with: {'alpha': 5, 'class_weight': 'balanced', 'loss': 'hinge', 'max_iter': 500, 'penalty': 'l2', 'random_state': 1234}\n",
      "0.613619 (0.106061) with: {'alpha': 5, 'class_weight': 'balanced', 'loss': 'hinge', 'max_iter': 1000, 'penalty': 'l2', 'random_state': 1234}\n",
      "0.613619 (0.106061) with: {'alpha': 5, 'class_weight': 'balanced', 'loss': 'hinge', 'max_iter': 1500, 'penalty': 'l2', 'random_state': 1234}\n",
      "0.686870 (0.003274) with: {'alpha': 5, 'class_weight': None, 'loss': 'modified_huber', 'max_iter': 500, 'penalty': 'l2', 'random_state': 1234}\n",
      "0.686870 (0.003274) with: {'alpha': 5, 'class_weight': None, 'loss': 'modified_huber', 'max_iter': 1000, 'penalty': 'l2', 'random_state': 1234}\n",
      "0.686870 (0.003274) with: {'alpha': 5, 'class_weight': None, 'loss': 'modified_huber', 'max_iter': 1500, 'penalty': 'l2', 'random_state': 1234}\n",
      "0.575673 (0.003867) with: {'alpha': 5, 'class_weight': None, 'loss': 'hinge', 'max_iter': 500, 'penalty': 'l2', 'random_state': 1234}\n",
      "0.575673 (0.003867) with: {'alpha': 5, 'class_weight': None, 'loss': 'hinge', 'max_iter': 1000, 'penalty': 'l2', 'random_state': 1234}\n",
      "0.575673 (0.003867) with: {'alpha': 5, 'class_weight': None, 'loss': 'hinge', 'max_iter': 1500, 'penalty': 'l2', 'random_state': 1234}\n",
      "0.664711 (0.041079) with: {'alpha': 10, 'class_weight': 'balanced', 'loss': 'modified_huber', 'max_iter': 500, 'penalty': 'l2', 'random_state': 1234}\n",
      "0.664711 (0.041079) with: {'alpha': 10, 'class_weight': 'balanced', 'loss': 'modified_huber', 'max_iter': 1000, 'penalty': 'l2', 'random_state': 1234}\n",
      "0.664711 (0.041079) with: {'alpha': 10, 'class_weight': 'balanced', 'loss': 'modified_huber', 'max_iter': 1500, 'penalty': 'l2', 'random_state': 1234}\n",
      "0.598239 (0.047980) with: {'alpha': 10, 'class_weight': 'balanced', 'loss': 'hinge', 'max_iter': 500, 'penalty': 'l2', 'random_state': 1234}\n",
      "0.598239 (0.047980) with: {'alpha': 10, 'class_weight': 'balanced', 'loss': 'hinge', 'max_iter': 1000, 'penalty': 'l2', 'random_state': 1234}\n",
      "0.598239 (0.047980) with: {'alpha': 10, 'class_weight': 'balanced', 'loss': 'hinge', 'max_iter': 1500, 'penalty': 'l2', 'random_state': 1234}\n",
      "0.581120 (0.010591) with: {'alpha': 10, 'class_weight': None, 'loss': 'modified_huber', 'max_iter': 500, 'penalty': 'l2', 'random_state': 1234}\n",
      "0.581120 (0.010591) with: {'alpha': 10, 'class_weight': None, 'loss': 'modified_huber', 'max_iter': 1000, 'penalty': 'l2', 'random_state': 1234}\n",
      "0.581120 (0.010591) with: {'alpha': 10, 'class_weight': None, 'loss': 'modified_huber', 'max_iter': 1500, 'penalty': 'l2', 'random_state': 1234}\n",
      "0.574376 (0.000035) with: {'alpha': 10, 'class_weight': None, 'loss': 'hinge', 'max_iter': 500, 'penalty': 'l2', 'random_state': 1234}\n",
      "0.574376 (0.000035) with: {'alpha': 10, 'class_weight': None, 'loss': 'hinge', 'max_iter': 1000, 'penalty': 'l2', 'random_state': 1234}\n",
      "0.574376 (0.000035) with: {'alpha': 10, 'class_weight': None, 'loss': 'hinge', 'max_iter': 1500, 'penalty': 'l2', 'random_state': 1234}\n",
      "Wall time: 43.4 s\n"
     ]
    }
   ],
   "source": [
    "%%time\n",
    "grid_result_SVM = grid_search_SVM.fit(scaled_X, y)\n",
    "# summarize results\n",
    "print(\"Best: %f using %s\" % (grid_result_SVM.best_score_, grid_result_SVM.best_params_))\n",
    "means = grid_result_SVM.cv_results_['mean_test_score']\n",
    "stds = grid_result_SVM.cv_results_['std_test_score']\n",
    "params = grid_result_SVM.cv_results_['params']\n",
    "for mean, stdev, param in zip(means, stds, params):\n",
    "    print(\"%f (%f) with: %r\" % (mean, stdev, param))"
   ]
  },
  {
   "cell_type": "code",
   "execution_count": 30,
   "metadata": {},
   "outputs": [
    {
     "data": {
      "text/plain": [
       "SGDClassifier(alpha=0.01, loss='modified_huber', max_iter=500,\n",
       "              random_state=1234)"
      ]
     },
     "execution_count": 30,
     "metadata": {},
     "output_type": "execute_result"
    }
   ],
   "source": [
    "# The GridSearch algorithm determined the following optimal parameters\n",
    "best_Estimator_SVM =grid_result_SVM.best_estimator_\n",
    "best_Estimator_SVM"
   ]
  }
 ],
 "metadata": {
  "kernelspec": {
   "display_name": "Python 3",
   "language": "python",
   "name": "python3"
  },
  "language_info": {
   "codemirror_mode": {
    "name": "ipython",
    "version": 3
   },
   "file_extension": ".py",
   "mimetype": "text/x-python",
   "name": "python",
   "nbconvert_exporter": "python",
   "pygments_lexer": "ipython3",
   "version": "3.8.5"
  }
 },
 "nbformat": 4,
 "nbformat_minor": 5
}
