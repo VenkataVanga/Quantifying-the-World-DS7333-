{
 "cells": [
  {
   "cell_type": "markdown",
   "metadata": {},
   "source": [
    "# Email parsing and Classification  (Case Study #3: DS7331)\n",
    "SMU Student collaboration:\n",
    "\n",
    " - Allen Miller\n",
    " - Vijay Kaniti\n",
    " - Venkata 'MG' Vanga"
   ]
  },
  {
   "cell_type": "code",
   "execution_count": 1,
   "metadata": {},
   "outputs": [],
   "source": [
    "import os\n",
    "import re"
   ]
  },
  {
   "cell_type": "code",
   "execution_count": 2,
   "metadata": {},
   "outputs": [],
   "source": [
    "import numpy as np\n",
    "import pandas as pd\n",
    "import email\n",
    "from html.parser import HTMLParser\n",
    "from bs4 import BeautifulSoup"
   ]
  },
  {
   "cell_type": "markdown",
   "metadata": {},
   "source": [
    "Checking all the directories in the folder of jupiter notebook."
   ]
  },
  {
   "cell_type": "code",
   "execution_count": 3,
   "metadata": {},
   "outputs": [
    {
     "data": {
      "text/plain": [
       "['.ipynb_checkpoints',\n",
       " 'CS#3_Email parsing and Spam Classification_Miller,Kaniti,Vanga.ipynb',\n",
       " 'easy_ham',\n",
       " 'easy_ham_2',\n",
       " 'hard_ham',\n",
       " 'spam',\n",
       " 'spam_2']"
      ]
     },
     "execution_count": 3,
     "metadata": {},
     "output_type": "execute_result"
    }
   ],
   "source": [
    "os.listdir()"
   ]
  },
  {
   "cell_type": "markdown",
   "metadata": {},
   "source": [
    "Separating to see how many files and directries are there."
   ]
  },
  {
   "cell_type": "code",
   "execution_count": 4,
   "metadata": {},
   "outputs": [
    {
     "name": "stdout",
     "output_type": "stream",
     "text": [
      "CS#3_Email parsing and Spam Classification_Miller,Kaniti,Vanga.ipynb\n"
     ]
    }
   ],
   "source": [
    "basepath = '.'\n",
    "for fname in os.listdir(basepath):\n",
    "    path = os.path.join(basepath, fname)\n",
    "    if os.path.isdir(path):\n",
    "        continue\n",
    "    else:\n",
    "        print(fname)"
   ]
  },
  {
   "cell_type": "code",
   "execution_count": 5,
   "metadata": {},
   "outputs": [
    {
     "data": {
      "text/plain": [
       "['easy_ham', 'easy_ham_2', 'hard_ham', 'spam', 'spam_2']"
      ]
     },
     "execution_count": 5,
     "metadata": {},
     "output_type": "execute_result"
    }
   ],
   "source": [
    "files = [f for f in os.listdir('.') if (re.match(r'easy', f)) or (re.match(r'hard', f)) or (re.match(r'spam', f))]\n",
    "files"
   ]
  },
  {
   "cell_type": "code",
   "execution_count": 6,
   "metadata": {},
   "outputs": [
    {
     "name": "stdout",
     "output_type": "stream",
     "text": [
      "easy_ham : 5052\n",
      "easy_ham_2 : 1401\n",
      "hard_ham : 501\n",
      "spam : 1001\n",
      "spam_2 : 1398\n"
     ]
    }
   ],
   "source": [
    "DIR = []\n",
    "for i in range(len(files)):\n",
    "    DIR = files[i]\n",
    "    print(DIR,':',len([name for name in os.listdir(DIR) if os.path.isfile(os.path.join(DIR, name))]))"
   ]
  },
  {
   "cell_type": "markdown",
   "metadata": {},
   "source": [
    "Creating function for stripping the header test."
   ]
  },
  {
   "cell_type": "code",
   "execution_count": 7,
   "metadata": {},
   "outputs": [],
   "source": [
    "def strip_head(text):\n",
    "    tmp=[]\n",
    "    flag = False\n",
    "    for i in text:\n",
    "        if i=='':\n",
    "            flag = True\n",
    "        if flag == True:\n",
    "            tmp.append(i)\n",
    "    return tmp"
   ]
  },
  {
   "cell_type": "markdown",
   "metadata": {},
   "source": [
    "Creating function for multipart/text email parsing."
   ]
  },
  {
   "cell_type": "code",
   "execution_count": 8,
   "metadata": {},
   "outputs": [],
   "source": [
    "def return_text(mail):\n",
    "    if mail.is_multipart():\n",
    "        tmp = mail.get_payload()[0]\n",
    "        return return_text(tmp)\n",
    "    elif mail.is_multipart() == False:\n",
    "        return mail"
   ]
  },
  {
   "cell_type": "markdown",
   "metadata": {},
   "source": [
    "'easy_ham' parsing"
   ]
  },
  {
   "cell_type": "code",
   "execution_count": 9,
   "metadata": {},
   "outputs": [
    {
     "name": "stdout",
     "output_type": "stream",
     "text": [
      "Number of emails parsed in easy_ham: 5052\n",
      "Number of targets for easy_ham: 5052\n"
     ]
    }
   ],
   "source": [
    "targets = []\n",
    "data = []\n",
    "count = 0\n",
    "not_spamList = os.listdir(\"./easy_ham/\")\n",
    "for i in not_spamList:\n",
    "    with open(\"./easy_ham/\"+i, \"r\",encoding= 'utf-8', errors='ignore') as f:\n",
    "        x = email.message_from_file(f)\n",
    "    x = return_text(x)\n",
    "    mailType = x.get_content_type()\n",
    "    if mailType == \"text/plain\":\n",
    "        tmp = x.get_payload()\n",
    "        tmp = tmp.replace(\"\\n\",\" \")\n",
    "        tmp = tmp.replace(r'http\\S+', ' ')\n",
    "        tmp = tmp.replace(\"-\",\" \")\n",
    "        data.append(tmp)\n",
    "        targets.append(0)\n",
    "    elif mailType == \"text/html\":\n",
    "        tmp = BeautifulSoup(x.get_payload(), 'html.parser')\n",
    "        tmp = tmp.text.replace(\"\\n\",\" \")\n",
    "        tmp = tmp.replace(r'http\\S+', ' ')\n",
    "        tmp = tmp.replace(\"-\",\" \")\n",
    "        data.append(tmp)\n",
    "        targets.append(0)\n",
    "    else:\n",
    "        print(f\"msg {i} not parsed\")\n",
    "        print(x.get_content_type())\n",
    "print('Number of emails parsed in easy_ham:',len(data))\n",
    "print('Number of targets for easy_ham:',len(targets))\n",
    "        "
   ]
  },
  {
   "cell_type": "markdown",
   "metadata": {},
   "source": [
    "'easy_ham_2' parsing"
   ]
  },
  {
   "cell_type": "code",
   "execution_count": 10,
   "metadata": {},
   "outputs": [
    {
     "name": "stdout",
     "output_type": "stream",
     "text": [
      "Number of emails parsed in easy_ham + easy_ham_2: 6453\n",
      "Number of targets for easy_ham + easy_ham_2: 6453\n"
     ]
    }
   ],
   "source": [
    "not_spamList1 = os.listdir(\"./easy_ham_2/\")\n",
    "for i in not_spamList1:\n",
    "    with open(\"./easy_ham_2/\"+i, \"r\",encoding= 'utf-8', errors='ignore') as f:\n",
    "        x = email.message_from_file(f)\n",
    "    x = return_text(x)\n",
    "    mailType = x.get_content_type()\n",
    "    if mailType == \"text/plain\":\n",
    "        tmp = x.get_payload()\n",
    "        tmp = tmp.replace(\"\\n\",\" \")\n",
    "        tmp = tmp.replace(\"-\",\" \")\n",
    "        tmp = tmp.replace(r'http\\S+', ' ')\n",
    "        data.append(tmp)\n",
    "        targets.append(0)\n",
    "    elif mailType == \"text/html\":\n",
    "        tmp = BeautifulSoup(x.get_payload(), 'html.parser')\n",
    "        tmp = tmp.text.replace(\"\\n\",\" \")\n",
    "        tmp = tmp.replace(r'http\\S+', ' ')\n",
    "        data.append(tmp)\n",
    "        targets.append(0)\n",
    "    else:\n",
    "        print(f\"msg {i} not parsed\")\n",
    "        print(x.get_content_type())\n",
    "print('Number of emails parsed in easy_ham + easy_ham_2:',len(data))\n",
    "print('Number of targets for easy_ham + easy_ham_2:',len(targets))"
   ]
  },
  {
   "cell_type": "markdown",
   "metadata": {},
   "source": [
    "'hard_ham' parsing"
   ]
  },
  {
   "cell_type": "code",
   "execution_count": 11,
   "metadata": {},
   "outputs": [
    {
     "name": "stdout",
     "output_type": "stream",
     "text": [
      "Number of emails parsed in easy_ham + easy_ham_2 + hard_ham: 6954\n",
      "Number of targets for easy_ham + easy_ham_2 + hard_ham: 6954\n"
     ]
    }
   ],
   "source": [
    "not_spamList2 = os.listdir(\"./hard_ham/\")\n",
    "for i in not_spamList2:\n",
    "    with open(\"./hard_ham/\"+i, \"r\",encoding= 'utf-8', errors='ignore') as f:\n",
    "        x = email.message_from_file(f)\n",
    "    x = return_text(x)\n",
    "    mailType = x.get_content_type()\n",
    "    if mailType == \"text/plain\":\n",
    "        tmp = x.get_payload()\n",
    "        tmp = tmp.replace(\"\\n\",\" \")\n",
    "        tmp = tmp.replace(\"-\",\" \")\n",
    "        tmp = tmp.replace(r'http\\S+', ' ')\n",
    "        data.append(tmp)\n",
    "        targets.append(0)\n",
    "    elif mailType == \"text/html\":\n",
    "        tmp = BeautifulSoup(x.get_payload(), 'html.parser')\n",
    "        tmp = tmp.text.replace(\"\\n\",\" \")\n",
    "        tmp = tmp.replace(r'http\\S+', ' ')\n",
    "        data.append(tmp)\n",
    "        targets.append(0)\n",
    "    else:\n",
    "        print(f\"msg {i} not parsed\")\n",
    "        print(x.get_content_type())\n",
    "print('Number of emails parsed in easy_ham + easy_ham_2 + hard_ham:',len(data))\n",
    "print('Number of targets for easy_ham + easy_ham_2 + hard_ham:',len(targets))"
   ]
  },
  {
   "cell_type": "markdown",
   "metadata": {},
   "source": [
    "'spam' parsing"
   ]
  },
  {
   "cell_type": "code",
   "execution_count": 12,
   "metadata": {},
   "outputs": [
    {
     "name": "stdout",
     "output_type": "stream",
     "text": [
      "msg 00467.5b733c506b7165424a0d4a298e67970f not parsed\n",
      "multipart/alternative\n",
      "None\n",
      "msg 0478.16f274ffd3e884a574c9461012cadea6 not parsed\n",
      "multipart/alternative\n",
      "None\n",
      "Number of emails parsed in easy_ham + easy_ham_2 + hard_ham + spam: 7953\n",
      "Number of targets for easy_ham + easy_ham_2 + hard_ham + spam: 7953\n"
     ]
    }
   ],
   "source": [
    "spamList = os.listdir(\"./spam/\")\n",
    "for i in spamList:\n",
    "    with open(\"./spam/\"+i, \"r\", encoding = 'utf-8' or 'us-ascii' or 'windows-1252' or 'iso-8859-1', errors='ignore') as f:\n",
    "        try:\n",
    "            x = email.message_from_file(f)\n",
    "        except:\n",
    "            print(f\"msg {i} not read\")\n",
    "    x = return_text(x)\n",
    "    mailType = x.get_content_type()\n",
    "    textType = x.get_content_charset()\n",
    "    if mailType == \"text/plain\":\n",
    "        tmp = x.get_payload()\n",
    "        tmp = tmp.replace(\"\\n\",\" \")\n",
    "        tmp = tmp.replace(\"-\",\" \")\n",
    "        tmp = tmp.replace(r'http\\S+', ' ')\n",
    "        data.append(tmp)\n",
    "        targets.append(1)\n",
    "    elif mailType == \"text/html\":\n",
    "        tmp = BeautifulSoup(x.get_payload(), 'html.parser')\n",
    "        tmp = tmp.text.replace(\"\\n\",\" \")\n",
    "        tmp = tmp.replace(r'http\\S+', ' ')\n",
    "        data.append(tmp)\n",
    "        targets.append(1)\n",
    "    else:\n",
    "        print(f\"msg {i} not parsed\")\n",
    "        print(x.get_content_type())\n",
    "        print(textType)\n",
    "print('Number of emails parsed in easy_ham + easy_ham_2 + hard_ham + spam:',len(data))\n",
    "print('Number of targets for easy_ham + easy_ham_2 + hard_ham + spam:',len(targets))"
   ]
  },
  {
   "cell_type": "markdown",
   "metadata": {},
   "source": [
    "'spam_2' parsing"
   ]
  },
  {
   "cell_type": "code",
   "execution_count": 13,
   "metadata": {},
   "outputs": [
    {
     "name": "stdout",
     "output_type": "stream",
     "text": [
      "msg 00204.4cf15f97b8ea08bfafab7d5091b8fbe7 not parsed\n",
      "text/plain charset=us-ascii\n",
      "None\n",
      "msg 01214.973b4598b630a989967ff69b19f95d4a not parsed\n",
      "multipart/alternative\n",
      "None\n",
      "Number of emails parsed in easy_ham + easy_ham_2 + hard_ham + spam_2: 9349\n",
      "Number of targets for easy_ham + easy_ham_2 + hard_ham + spam_2: 9349\n"
     ]
    }
   ],
   "source": [
    "spamList1 = os.listdir(\"./spam_2/\")\n",
    "for i in spamList1:\n",
    "    with open(\"./spam_2/\"+i, \"r\", encoding = 'utf-8' or 'us-ascii' or 'windows-1252' or 'iso-8859-1', errors='ignore') as f:\n",
    "        try:\n",
    "            x = email.message_from_file(f)\n",
    "        except:\n",
    "            print(f\"msg {i} not read\")\n",
    "    x = return_text(x)\n",
    "    mailType = x.get_content_type()\n",
    "    textType = x.get_content_charset()\n",
    "    if mailType == \"text/plain\":\n",
    "        tmp = x.get_payload()\n",
    "        tmp = tmp.replace(\"\\n\",\" \")\n",
    "        tmp = tmp.replace(\"-\",\" \")\n",
    "        tmp = tmp.replace(r'http\\S+', ' ')\n",
    "        data.append(tmp)\n",
    "        targets.append(1)\n",
    "    elif mailType == \"text/html\":\n",
    "        tmp = BeautifulSoup(x.get_payload(), 'html.parser')\n",
    "        tmp = tmp.text.replace(\"\\n\",\" \")\n",
    "        tmp = tmp.replace(r'http\\S+', ' ')\n",
    "        data.append(tmp)\n",
    "        targets.append(1)\n",
    "    else:\n",
    "        print(f\"msg {i} not parsed\")\n",
    "        print(x.get_content_type())\n",
    "        print(textType)\n",
    "print('Number of emails parsed in easy_ham + easy_ham_2 + hard_ham + spam_2:',len(data))\n",
    "print('Number of targets for easy_ham + easy_ham_2 + hard_ham + spam_2:',len(targets))"
   ]
  },
  {
   "cell_type": "code",
   "execution_count": 14,
   "metadata": {},
   "outputs": [
    {
     "name": "stdout",
     "output_type": "stream",
     "text": [
      "9349\n"
     ]
    }
   ],
   "source": [
    "print(len(data))"
   ]
  },
  {
   "cell_type": "code",
   "execution_count": 15,
   "metadata": {
    "scrolled": false
   },
   "outputs": [
    {
     "data": {
      "text/plain": [
       "True"
      ]
     },
     "execution_count": 15,
     "metadata": {},
     "output_type": "execute_result"
    }
   ],
   "source": [
    "len(data) == len(targets)"
   ]
  },
  {
   "cell_type": "code",
   "execution_count": 16,
   "metadata": {},
   "outputs": [
    {
     "name": "stdout",
     "output_type": "stream",
     "text": [
      "data 9349\n",
      "a 9349\n"
     ]
    }
   ],
   "source": [
    "import nltk\n",
    "#nltk.download('stopwords')\n",
    "#nltk.download('punkt')\n",
    "from nltk.corpus import stopwords\n",
    "from nltk.tokenize import word_tokenize\n",
    "stopset = set(stopwords.words('english'))\n",
    "def remove_stopwords(dt):\n",
    "    output_array=[]\n",
    "    for sen in dt:\n",
    "        temp_list=[]\n",
    "        for word in sen.split():\n",
    "            if word.lower() not in stopset:\n",
    "                temp_list.append(word)\n",
    "        output_array.append(' '.join(temp_list))\n",
    "    return output_array\n",
    "\n",
    "a = remove_stopwords(data)\n",
    "print(\"data\",len(data))\n",
    "print(\"a\",len(a))"
   ]
  },
  {
   "cell_type": "code",
   "execution_count": 17,
   "metadata": {},
   "outputs": [],
   "source": [
    "from sklearn.model_selection import train_test_split\n",
    "X_train, X_test, y_train, y_test = train_test_split(a, targets,test_size=0.35, shuffle=True, random_state=42)"
   ]
  },
  {
   "cell_type": "code",
   "execution_count": 18,
   "metadata": {},
   "outputs": [],
   "source": [
    "from sklearn.feature_extraction.text import CountVectorizer"
   ]
  },
  {
   "cell_type": "code",
   "execution_count": 19,
   "metadata": {},
   "outputs": [],
   "source": [
    "cv = CountVectorizer()\n",
    "cv_data_train = cv.fit_transform(X_train)\n",
    "cv_data_test = cv.transform(X_test)"
   ]
  },
  {
   "cell_type": "code",
   "execution_count": 20,
   "metadata": {},
   "outputs": [],
   "source": [
    "from sklearn.naive_bayes import MultinomialNB\n",
    "model = MultinomialNB()"
   ]
  },
  {
   "cell_type": "code",
   "execution_count": 21,
   "metadata": {},
   "outputs": [
    {
     "data": {
      "text/plain": [
       "MultinomialNB()"
      ]
     },
     "execution_count": 21,
     "metadata": {},
     "output_type": "execute_result"
    }
   ],
   "source": [
    "model.fit(cv_data_train, y_train)"
   ]
  },
  {
   "cell_type": "code",
   "execution_count": 22,
   "metadata": {},
   "outputs": [],
   "source": [
    "cv_preds = model.predict(cv_data_test)"
   ]
  },
  {
   "cell_type": "code",
   "execution_count": 23,
   "metadata": {},
   "outputs": [],
   "source": [
    "from sklearn.metrics import accuracy_score"
   ]
  },
  {
   "cell_type": "code",
   "execution_count": 24,
   "metadata": {},
   "outputs": [
    {
     "data": {
      "text/plain": [
       "0.9783073632752826"
      ]
     },
     "execution_count": 24,
     "metadata": {},
     "output_type": "execute_result"
    }
   ],
   "source": [
    "accuracy_score(cv_preds, y_test)"
   ]
  },
  {
   "cell_type": "code",
   "execution_count": 25,
   "metadata": {
    "scrolled": true
   },
   "outputs": [
    {
     "name": "stdout",
     "output_type": "stream",
     "text": [
      "              precision    recall  f1-score   support\n",
      "\n",
      "    Not Spam       0.97      1.00      0.99      2437\n",
      "        Spam       1.00      0.92      0.96       836\n",
      "\n",
      "    accuracy                           0.98      3273\n",
      "   macro avg       0.98      0.96      0.97      3273\n",
      "weighted avg       0.98      0.98      0.98      3273\n",
      "\n"
     ]
    }
   ],
   "source": [
    "from sklearn.metrics import classification_report\n",
    "print(classification_report(y_test,cv_preds,target_names=['Not Spam', 'Spam']))"
   ]
  },
  {
   "cell_type": "code",
   "execution_count": 26,
   "metadata": {},
   "outputs": [
    {
     "data": {
      "text/plain": [
       "<function matplotlib.pyplot.show(close=None, block=None)>"
      ]
     },
     "execution_count": 26,
     "metadata": {},
     "output_type": "execute_result"
    },
    {
     "data": {
      "image/png": "[encoded data removed]",
      "text/plain": [
       "<Figure size 432x288 with 2 Axes>"
      ]
     },
     "metadata": {
      "needs_background": "light"
     },
     "output_type": "display_data"
    }
   ],
   "source": [
    "from sklearn.metrics import confusion_matrix\n",
    "import seaborn as sns\n",
    "import matplotlib.pyplot as plt\n",
    "\n",
    "cm0 = confusion_matrix(y_test,cv_preds)\n",
    "x_axis_labels = ['Not Spam', 'Spam']\n",
    "y_axis_labels = ['Not Spam', 'Spam']\n",
    "ax = plt.axes()\n",
    "sns.heatmap(cm0, cmap='Blues', annot=True, fmt='d',xticklabels=x_axis_labels,\n",
    "            yticklabels=y_axis_labels, ax=ax, cbar_kws={'label': 'Email Count',})\n",
    "ax.set_title('Email Classification Spam/Not Spam - CountVectorizer')\n",
    "plt.xlabel(\"Predicted Email Classification\")\n",
    "plt.ylabel(\"True Email Classification\") \n",
    "plt.show"
   ]
  },
  {
   "cell_type": "markdown",
   "metadata": {},
   "source": [
    "#### TFIDF"
   ]
  },
  {
   "cell_type": "code",
   "execution_count": 27,
   "metadata": {},
   "outputs": [],
   "source": [
    "from sklearn.feature_extraction.text import TfidfVectorizer\n",
    "tfidf = TfidfVectorizer()"
   ]
  },
  {
   "cell_type": "code",
   "execution_count": 28,
   "metadata": {},
   "outputs": [],
   "source": [
    "tf_data_train = tfidf.fit_transform(X_train)\n",
    "\n",
    "tf_data_test = tfidf.transform(X_test)"
   ]
  },
  {
   "cell_type": "code",
   "execution_count": 29,
   "metadata": {},
   "outputs": [],
   "source": [
    "y_train = np.array(y_train)"
   ]
  },
  {
   "cell_type": "code",
   "execution_count": 30,
   "metadata": {},
   "outputs": [],
   "source": [
    "y_test = np.array(y_test)"
   ]
  },
  {
   "cell_type": "code",
   "execution_count": 31,
   "metadata": {},
   "outputs": [
    {
     "data": {
      "text/plain": [
       "MultinomialNB()"
      ]
     },
     "execution_count": 31,
     "metadata": {},
     "output_type": "execute_result"
    }
   ],
   "source": [
    "model.fit(tf_data_train, y_train)"
   ]
  },
  {
   "cell_type": "code",
   "execution_count": 32,
   "metadata": {},
   "outputs": [],
   "source": [
    "preds = model.predict(tf_data_test)"
   ]
  },
  {
   "cell_type": "code",
   "execution_count": 33,
   "metadata": {},
   "outputs": [
    {
     "data": {
      "text/plain": [
       "0.8927589367552704"
      ]
     },
     "execution_count": 33,
     "metadata": {},
     "output_type": "execute_result"
    }
   ],
   "source": [
    "accuracy_score(preds, y_test)"
   ]
  },
  {
   "cell_type": "code",
   "execution_count": 34,
   "metadata": {},
   "outputs": [
    {
     "name": "stdout",
     "output_type": "stream",
     "text": [
      "              precision    recall  f1-score   support\n",
      "\n",
      "    Not Spam       0.87      1.00      0.93      2437\n",
      "        Spam       1.00      0.58      0.73       836\n",
      "\n",
      "    accuracy                           0.89      3273\n",
      "   macro avg       0.94      0.79      0.83      3273\n",
      "weighted avg       0.91      0.89      0.88      3273\n",
      "\n"
     ]
    }
   ],
   "source": [
    "from sklearn.metrics import classification_report\n",
    "print(classification_report(y_test,preds,target_names=['Not Spam', 'Spam']))"
   ]
  },
  {
   "cell_type": "code",
   "execution_count": 35,
   "metadata": {},
   "outputs": [
    {
     "data": {
      "text/plain": [
       "<function matplotlib.pyplot.show(close=None, block=None)>"
      ]
     },
     "execution_count": 35,
     "metadata": {},
     "output_type": "execute_result"
    },
    {
     "data": {
      "image/png": "[encoded data removed]",
      "text/plain": [
       "<Figure size 432x288 with 2 Axes>"
      ]
     },
     "metadata": {
      "needs_background": "light"
     },
     "output_type": "display_data"
    }
   ],
   "source": [
    "cm0 = confusion_matrix(y_test,preds)\n",
    "x_axis_labels = ['Not Spam', 'Spam']\n",
    "y_axis_labels = ['Not Spam', 'Spam']\n",
    "ax = plt.axes()\n",
    "sns.heatmap(cm0, cmap='Blues', annot=True, fmt='d',xticklabels=x_axis_labels,\n",
    "            yticklabels=y_axis_labels, ax=ax, cbar_kws={'label': 'Email Count',})\n",
    "ax.set_title('Email Classification Spam/Not Spam - TFIDF')\n",
    "plt.xlabel(\"Predicted Email Classification\")\n",
    "plt.ylabel(\"True Email Classification\") \n",
    "plt.show"
   ]
  },
  {
   "cell_type": "code",
   "execution_count": null,
   "metadata": {},
   "outputs": [],
   "source": []
  }
 ],
 "metadata": {
  "kernelspec": {
   "display_name": "Python 3",
   "language": "python",
   "name": "python3"
  },
  "language_info": {
   "codemirror_mode": {
    "name": "ipython",
    "version": 3
   },
   "file_extension": ".py",
   "mimetype": "text/x-python",
   "name": "python",
   "nbconvert_exporter": "python",
   "pygments_lexer": "ipython3",
   "version": "3.8.5"
  },
  "toc": {
   "base_numbering": 1,
   "nav_menu": {},
   "number_sections": true,
   "sideBar": true,
   "skip_h1_title": false,
   "title_cell": "Table of Contents",
   "title_sidebar": "Contents",
   "toc_cell": false,
   "toc_position": {},
   "toc_section_display": true,
   "toc_window_display": false
  }
 },
 "nbformat": 4,
 "nbformat_minor": 5
}
